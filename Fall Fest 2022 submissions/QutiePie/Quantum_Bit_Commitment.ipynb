{
  "nbformat": 4,
  "nbformat_minor": 0,
  "metadata": {
    "colab": {
      "provenance": [],
      "collapsed_sections": [],
      "include_colab_link": true
    },
    "kernelspec": {
      "name": "python3",
      "display_name": "Python 3"
    },
    "language_info": {
      "name": "python"
    }
  },
  "cells": [
    {
      "cell_type": "markdown",
      "metadata": {
        "id": "view-in-github",
        "colab_type": "text"
      },
      "source": [
        "<a href=\"https://colab.research.google.com/github/Screeeech/fall-fest-2022/blob/main/Quantum_Bit_Commitment.ipynb\" target=\"_parent\"><img src=\"https://colab.research.google.com/assets/colab-badge.svg\" alt=\"Open In Colab\"/></a>"
      ]
    },
    {
      "cell_type": "code",
      "execution_count": null,
      "metadata": {
        "id": "2GQ3Gy1Ptkmd"
      },
      "outputs": [],
      "source": [
        "!pip install qiskit numpy"
      ]
    },
    {
      "cell_type": "code",
      "source": [
        "import numpy as np\n",
        "import random\n",
        "from qiskit import QuantumCircuit, transpile, Aer\n",
        "from qiskit.providers.fake_provider import FakeQasmSimulator\n",
        "from qiskit.visualization import plot_histogram\n",
        "import qiskit.quantum_info as qi"
      ],
      "metadata": {
        "id": "YJs54eKR7FTm"
      },
      "execution_count": null,
      "outputs": []
    },
    {
      "cell_type": "markdown",
      "source": [
        "# Bit Commitment Schemes\n",
        "## Background\n"
      ],
      "metadata": {
        "id": "j6HBk5VBuHVa"
      }
    },
    {
      "cell_type": "markdown",
      "source": [
        "A Real World example of this can be seen in the game show Jeopardy with the Final Jeopardy:\n",
        "\n",
        "*   Contestants are all asked a question, and asked to write their answer on an envelope and seal it.\n",
        "*   There is no way for the contestants to change their answers sealed in the envelopes after they answer, indicating Bindingness\n",
        "*   There is no way for the contestants to know each others answers, indicating Hiddenness\n",
        "\n",
        "In this specific case each contestant is acting as a Sender and Receiver for the other contestants, but at its core a commitment scheme involves 2 mistrustful parties and requires it to be Binding and Hidden to be effective.\n",
        "\n",
        "Commitment schemes have important applications in many cryptographic protocols, such as zero knowledge proofs and secure computation.\n",
        "\n",
        "Commitment schemes classically can only be perfectly Binding or perfectly Hidden. However with the creation of Quantum Key Distribution and it being unconditionally secure, the possibility for a perfectly Binding and perfectly Hidden commitment scheme utilizing Quantum mechanics was theorized.\n",
        "\n",
        "However, only 3 years after the theoretical birth of an unconditional QBC (Quantum Bit commitment) the Mayers-Lo-Chau no-go Theorem was developed, deeming the impossibility of an unconditionally secure QBC protocol based on the core principles of QBC. This fact that a perfect QBC is impossible was widely accepted and it has even been considered through the CBH to be a fundamental building block of nature.\n",
        "\n"
      ],
      "metadata": {
        "id": "shSPh6UHuwJ4"
      }
    },
    {
      "cell_type": "markdown",
      "source": [
        "## Bypassing the MLC no-go Theorem\n",
        "Based on a Paper published in 2018 by Guang Ping He, there is new theoretical backing for the creation of an unconditionally secure QBC. This is because of an assumption made during the proof, that the density matrices of the two possible states must be asymptomaically equal. This possibility was only considered in finite-space, but Guang theorizes that in an infinite dimensional system, Alice is unable to cheat because of the Uncertainty Principle imposed on her measurement device, effectively bypassing the MLC theorem"
      ],
      "metadata": {
        "id": "USFmxA18vdng"
      }
    },
    {
      "cell_type": "markdown",
      "source": [
        "Below: create a basic quantum bit commitment scheme"
      ],
      "metadata": {
        "id": "kMYcvZ0bvrsV"
      }
    },
    {
      "cell_type": "code",
      "source": [
        "def alice_commit(commit, bitstr, circuit):\n",
        "  firstq = bitstr.find(\"1\")\n",
        "  if commit != 0:\n",
        "    circuit.x(firstq)\n",
        "  circuit.h(firstq)\n",
        "  \n",
        "  for i in range(firstq+1, len(bitstr)):\n",
        "    if bitstr[i] == \"1\":\n",
        "      circuit.cnot(firstq, i)\n",
        "\n",
        "\n",
        "def bob_reversal(commit, bitstr, circuit):\n",
        "  print(bitstr)\n",
        "  firstq = len(bitstr) - bitstr.find(\"1\") - 1\n",
        "  if firstq == -1:\n",
        "    return\n",
        "\n",
        "  bitstr = bitstr[::-1]\n",
        "  lastq = bitstr.find(\"1\")\n",
        "  print(firstq, lastq)\n",
        "  \n",
        "  for i in range(lastq, firstq):\n",
        "    if bitstr[i] == \"1\":\n",
        "      circuit.cnot(len(bitstr) - firstq - 1, len(bitstr) - i - 1)\n",
        "\n",
        "  circuit.h(len(bitstr) - firstq - 1)\n",
        "  if commit != 0:\n",
        "    circuit.x(len(bitstr) - firstq - 1)"
      ],
      "metadata": {
        "id": "yim2afmsg_MT"
      },
      "execution_count": null,
      "outputs": []
    },
    {
      "cell_type": "code",
      "source": [
        "def randBitString(len):\n",
        "  key1 = \"\"\n",
        "  for i in range(len):\n",
        "         \n",
        "        # randint function to generate\n",
        "        # 0, 1 randomly and converting\n",
        "        # the result into str\n",
        "        temp = str(random.randint(0, 1))\n",
        " \n",
        "        # Concatenation the random 0, 1\n",
        "        # to the final result\n",
        "        key1 += temp\n",
        "         \n",
        "  return(key1)"
      ],
      "metadata": {
        "id": "ndvRBKAwDYvZ"
      },
      "execution_count": null,
      "outputs": []
    },
    {
      "cell_type": "code",
      "source": [
        "NUM_QUBITS = 20\n",
        "b = 1\n",
        "\n",
        "qctest2 = QuantumCircuit(NUM_QUBITS)\n",
        "seed = randBitString(NUM_QUBITS)\n",
        "print(seed)\n",
        "alice_commit(b,seed,qctest2)\n",
        "qctest2.draw()"
      ],
      "metadata": {
        "id": "XWbwpQk5_qyN",
        "colab": {
          "base_uri": "https://localhost:8080/",
          "height": 666
        },
        "outputId": "d05cbede-9057-4f7f-a310-2d327316b00d"
      },
      "execution_count": 220,
      "outputs": [
        {
          "output_type": "stream",
          "name": "stdout",
          "text": [
            "11111111000010100101\n"
          ]
        },
        {
          "output_type": "execute_result",
          "data": {
            "text/plain": [
              "      ┌───┐┌───┐                                                       \n",
              " q_0: ┤ X ├┤ H ├──■────■────■────■────■────■────■────■────■────■────■──\n",
              "      └───┘└───┘┌─┴─┐  │    │    │    │    │    │    │    │    │    │  \n",
              " q_1: ──────────┤ X ├──┼────┼────┼────┼────┼────┼────┼────┼────┼────┼──\n",
              "                └───┘┌─┴─┐  │    │    │    │    │    │    │    │    │  \n",
              " q_2: ───────────────┤ X ├──┼────┼────┼────┼────┼────┼────┼────┼────┼──\n",
              "                     └───┘┌─┴─┐  │    │    │    │    │    │    │    │  \n",
              " q_3: ────────────────────┤ X ├──┼────┼────┼────┼────┼────┼────┼────┼──\n",
              "                          └───┘┌─┴─┐  │    │    │    │    │    │    │  \n",
              " q_4: ─────────────────────────┤ X ├──┼────┼────┼────┼────┼────┼────┼──\n",
              "                               └───┘┌─┴─┐  │    │    │    │    │    │  \n",
              " q_5: ──────────────────────────────┤ X ├──┼────┼────┼────┼────┼────┼──\n",
              "                                    └───┘┌─┴─┐  │    │    │    │    │  \n",
              " q_6: ───────────────────────────────────┤ X ├──┼────┼────┼────┼────┼──\n",
              "                                         └───┘┌─┴─┐  │    │    │    │  \n",
              " q_7: ────────────────────────────────────────┤ X ├──┼────┼────┼────┼──\n",
              "                                              └───┘  │    │    │    │  \n",
              " q_8: ───────────────────────────────────────────────┼────┼────┼────┼──\n",
              "                                                     │    │    │    │  \n",
              " q_9: ───────────────────────────────────────────────┼────┼────┼────┼──\n",
              "                                                     │    │    │    │  \n",
              "q_10: ───────────────────────────────────────────────┼────┼────┼────┼──\n",
              "                                                     │    │    │    │  \n",
              "q_11: ───────────────────────────────────────────────┼────┼────┼────┼──\n",
              "                                                   ┌─┴─┐  │    │    │  \n",
              "q_12: ─────────────────────────────────────────────┤ X ├──┼────┼────┼──\n",
              "                                                   └───┘  │    │    │  \n",
              "q_13: ────────────────────────────────────────────────────┼────┼────┼──\n",
              "                                                        ┌─┴─┐  │    │  \n",
              "q_14: ──────────────────────────────────────────────────┤ X ├──┼────┼──\n",
              "                                                        └───┘  │    │  \n",
              "q_15: ─────────────────────────────────────────────────────────┼────┼──\n",
              "                                                               │    │  \n",
              "q_16: ─────────────────────────────────────────────────────────┼────┼──\n",
              "                                                             ┌─┴─┐  │  \n",
              "q_17: ───────────────────────────────────────────────────────┤ X ├──┼──\n",
              "                                                             └───┘  │  \n",
              "q_18: ──────────────────────────────────────────────────────────────┼──\n",
              "                                                                  ┌─┴─┐\n",
              "q_19: ────────────────────────────────────────────────────────────┤ X ├\n",
              "                                                                  └───┘"
            ],
            "text/html": [
              "<pre style=\"word-wrap: normal;white-space: pre;background: #fff0;line-height: 1.1;font-family: &quot;Courier New&quot;,Courier,monospace\">      ┌───┐┌───┐                                                       \n",
              " q_0: ┤ X ├┤ H ├──■────■────■────■────■────■────■────■────■────■────■──\n",
              "      └───┘└───┘┌─┴─┐  │    │    │    │    │    │    │    │    │    │  \n",
              " q_1: ──────────┤ X ├──┼────┼────┼────┼────┼────┼────┼────┼────┼────┼──\n",
              "                └───┘┌─┴─┐  │    │    │    │    │    │    │    │    │  \n",
              " q_2: ───────────────┤ X ├──┼────┼────┼────┼────┼────┼────┼────┼────┼──\n",
              "                     └───┘┌─┴─┐  │    │    │    │    │    │    │    │  \n",
              " q_3: ────────────────────┤ X ├──┼────┼────┼────┼────┼────┼────┼────┼──\n",
              "                          └───┘┌─┴─┐  │    │    │    │    │    │    │  \n",
              " q_4: ─────────────────────────┤ X ├──┼────┼────┼────┼────┼────┼────┼──\n",
              "                               └───┘┌─┴─┐  │    │    │    │    │    │  \n",
              " q_5: ──────────────────────────────┤ X ├──┼────┼────┼────┼────┼────┼──\n",
              "                                    └───┘┌─┴─┐  │    │    │    │    │  \n",
              " q_6: ───────────────────────────────────┤ X ├──┼────┼────┼────┼────┼──\n",
              "                                         └───┘┌─┴─┐  │    │    │    │  \n",
              " q_7: ────────────────────────────────────────┤ X ├──┼────┼────┼────┼──\n",
              "                                              └───┘  │    │    │    │  \n",
              " q_8: ───────────────────────────────────────────────┼────┼────┼────┼──\n",
              "                                                     │    │    │    │  \n",
              " q_9: ───────────────────────────────────────────────┼────┼────┼────┼──\n",
              "                                                     │    │    │    │  \n",
              "q_10: ───────────────────────────────────────────────┼────┼────┼────┼──\n",
              "                                                     │    │    │    │  \n",
              "q_11: ───────────────────────────────────────────────┼────┼────┼────┼──\n",
              "                                                   ┌─┴─┐  │    │    │  \n",
              "q_12: ─────────────────────────────────────────────┤ X ├──┼────┼────┼──\n",
              "                                                   └───┘  │    │    │  \n",
              "q_13: ────────────────────────────────────────────────────┼────┼────┼──\n",
              "                                                        ┌─┴─┐  │    │  \n",
              "q_14: ──────────────────────────────────────────────────┤ X ├──┼────┼──\n",
              "                                                        └───┘  │    │  \n",
              "q_15: ─────────────────────────────────────────────────────────┼────┼──\n",
              "                                                               │    │  \n",
              "q_16: ─────────────────────────────────────────────────────────┼────┼──\n",
              "                                                             ┌─┴─┐  │  \n",
              "q_17: ───────────────────────────────────────────────────────┤ X ├──┼──\n",
              "                                                             └───┘  │  \n",
              "q_18: ──────────────────────────────────────────────────────────────┼──\n",
              "                                                                  ┌─┴─┐\n",
              "q_19: ────────────────────────────────────────────────────────────┤ X ├\n",
              "                                                                  └───┘</pre>"
            ]
          },
          "metadata": {},
          "execution_count": 220
        }
      ]
    },
    {
      "cell_type": "code",
      "source": [
        "bob_reversal(0,seed,qctest2)\n",
        "qctest2.draw()"
      ],
      "metadata": {
        "id": "CHjdsjn3CBMB",
        "colab": {
          "base_uri": "https://localhost:8080/",
          "height": 1000
        },
        "outputId": "1c4b736e-749c-470d-bd01-22870219a253"
      },
      "execution_count": 221,
      "outputs": [
        {
          "output_type": "stream",
          "name": "stdout",
          "text": [
            "11111111000010100101\n",
            "19 0\n"
          ]
        },
        {
          "output_type": "execute_result",
          "data": {
            "text/plain": [
              "      ┌───┐┌───┐                                                            »\n",
              " q_0: ┤ X ├┤ H ├──■────■────■────■────■────■────■────■────■────■────■────■──»\n",
              "      └───┘└───┘┌─┴─┐  │    │    │    │    │    │    │    │    │    │    │  »\n",
              " q_1: ──────────┤ X ├──┼────┼────┼────┼────┼────┼────┼────┼────┼────┼────┼──»\n",
              "                └───┘┌─┴─┐  │    │    │    │    │    │    │    │    │    │  »\n",
              " q_2: ───────────────┤ X ├──┼────┼────┼────┼────┼────┼────┼────┼────┼────┼──»\n",
              "                     └───┘┌─┴─┐  │    │    │    │    │    │    │    │    │  »\n",
              " q_3: ────────────────────┤ X ├──┼────┼────┼────┼────┼────┼────┼────┼────┼──»\n",
              "                          └───┘┌─┴─┐  │    │    │    │    │    │    │    │  »\n",
              " q_4: ─────────────────────────┤ X ├──┼────┼────┼────┼────┼────┼────┼────┼──»\n",
              "                               └───┘┌─┴─┐  │    │    │    │    │    │    │  »\n",
              " q_5: ──────────────────────────────┤ X ├──┼────┼────┼────┼────┼────┼────┼──»\n",
              "                                    └───┘┌─┴─┐  │    │    │    │    │    │  »\n",
              " q_6: ───────────────────────────────────┤ X ├──┼────┼────┼────┼────┼────┼──»\n",
              "                                         └───┘┌─┴─┐  │    │    │    │    │  »\n",
              " q_7: ────────────────────────────────────────┤ X ├──┼────┼────┼────┼────┼──»\n",
              "                                              └───┘  │    │    │    │    │  »\n",
              " q_8: ───────────────────────────────────────────────┼────┼────┼────┼────┼──»\n",
              "                                                     │    │    │    │    │  »\n",
              " q_9: ───────────────────────────────────────────────┼────┼────┼────┼────┼──»\n",
              "                                                     │    │    │    │    │  »\n",
              "q_10: ───────────────────────────────────────────────┼────┼────┼────┼────┼──»\n",
              "                                                     │    │    │    │    │  »\n",
              "q_11: ───────────────────────────────────────────────┼────┼────┼────┼────┼──»\n",
              "                                                   ┌─┴─┐  │    │    │    │  »\n",
              "q_12: ─────────────────────────────────────────────┤ X ├──┼────┼────┼────┼──»\n",
              "                                                   └───┘  │    │    │    │  »\n",
              "q_13: ────────────────────────────────────────────────────┼────┼────┼────┼──»\n",
              "                                                        ┌─┴─┐  │    │    │  »\n",
              "q_14: ──────────────────────────────────────────────────┤ X ├──┼────┼────┼──»\n",
              "                                                        └───┘  │    │    │  »\n",
              "q_15: ─────────────────────────────────────────────────────────┼────┼────┼──»\n",
              "                                                               │    │    │  »\n",
              "q_16: ─────────────────────────────────────────────────────────┼────┼────┼──»\n",
              "                                                             ┌─┴─┐  │    │  »\n",
              "q_17: ───────────────────────────────────────────────────────┤ X ├──┼────┼──»\n",
              "                                                             └───┘  │    │  »\n",
              "q_18: ──────────────────────────────────────────────────────────────┼────┼──»\n",
              "                                                                  ┌─┴─┐┌─┴─┐»\n",
              "q_19: ────────────────────────────────────────────────────────────┤ X ├┤ X ├»\n",
              "                                                                  └───┘└───┘»\n",
              "«                                                        ┌───┐\n",
              "« q_0: ──■────■────■────■────■────■────■────■────■────■──┤ H ├\n",
              "«        │    │    │    │    │    │    │    │    │  ┌─┴─┐└───┘\n",
              "« q_1: ──┼────┼────┼────┼────┼────┼────┼────┼────┼──┤ X ├─────\n",
              "«        │    │    │    │    │    │    │    │  ┌─┴─┐└───┘     \n",
              "« q_2: ──┼────┼────┼────┼────┼────┼────┼────┼──┤ X ├──────────\n",
              "«        │    │    │    │    │    │    │  ┌─┴─┐└───┘          \n",
              "« q_3: ──┼────┼────┼────┼────┼────┼────┼──┤ X ├───────────────\n",
              "«        │    │    │    │    │    │  ┌─┴─┐└───┘               \n",
              "« q_4: ──┼────┼────┼────┼────┼────┼──┤ X ├────────────────────\n",
              "«        │    │    │    │    │  ┌─┴─┐└───┘                    \n",
              "« q_5: ──┼────┼────┼────┼────┼──┤ X ├─────────────────────────\n",
              "«        │    │    │    │  ┌─┴─┐└───┘                         \n",
              "« q_6: ──┼────┼────┼────┼──┤ X ├──────────────────────────────\n",
              "«        │    │    │  ┌─┴─┐└───┘                              \n",
              "« q_7: ──┼────┼────┼──┤ X ├───────────────────────────────────\n",
              "«        │    │    │  └───┘                                   \n",
              "« q_8: ──┼────┼────┼──────────────────────────────────────────\n",
              "«        │    │    │                                          \n",
              "« q_9: ──┼────┼────┼──────────────────────────────────────────\n",
              "«        │    │    │                                          \n",
              "«q_10: ──┼────┼────┼──────────────────────────────────────────\n",
              "«        │    │    │                                          \n",
              "«q_11: ──┼────┼────┼──────────────────────────────────────────\n",
              "«        │    │  ┌─┴─┐                                        \n",
              "«q_12: ──┼────┼──┤ X ├────────────────────────────────────────\n",
              "«        │    │  └───┘                                        \n",
              "«q_13: ──┼────┼───────────────────────────────────────────────\n",
              "«        │  ┌─┴─┐                                             \n",
              "«q_14: ──┼──┤ X ├─────────────────────────────────────────────\n",
              "«        │  └───┘                                             \n",
              "«q_15: ──┼────────────────────────────────────────────────────\n",
              "«        │                                                    \n",
              "«q_16: ──┼────────────────────────────────────────────────────\n",
              "«      ┌─┴─┐                                                  \n",
              "«q_17: ┤ X ├──────────────────────────────────────────────────\n",
              "«      └───┘                                                  \n",
              "«q_18: ───────────────────────────────────────────────────────\n",
              "«                                                             \n",
              "«q_19: ───────────────────────────────────────────────────────\n",
              "«                                                             "
            ],
            "text/html": [
              "<pre style=\"word-wrap: normal;white-space: pre;background: #fff0;line-height: 1.1;font-family: &quot;Courier New&quot;,Courier,monospace\">      ┌───┐┌───┐                                                            »\n",
              " q_0: ┤ X ├┤ H ├──■────■────■────■────■────■────■────■────■────■────■────■──»\n",
              "      └───┘└───┘┌─┴─┐  │    │    │    │    │    │    │    │    │    │    │  »\n",
              " q_1: ──────────┤ X ├──┼────┼────┼────┼────┼────┼────┼────┼────┼────┼────┼──»\n",
              "                └───┘┌─┴─┐  │    │    │    │    │    │    │    │    │    │  »\n",
              " q_2: ───────────────┤ X ├──┼────┼────┼────┼────┼────┼────┼────┼────┼────┼──»\n",
              "                     └───┘┌─┴─┐  │    │    │    │    │    │    │    │    │  »\n",
              " q_3: ────────────────────┤ X ├──┼────┼────┼────┼────┼────┼────┼────┼────┼──»\n",
              "                          └───┘┌─┴─┐  │    │    │    │    │    │    │    │  »\n",
              " q_4: ─────────────────────────┤ X ├──┼────┼────┼────┼────┼────┼────┼────┼──»\n",
              "                               └───┘┌─┴─┐  │    │    │    │    │    │    │  »\n",
              " q_5: ──────────────────────────────┤ X ├──┼────┼────┼────┼────┼────┼────┼──»\n",
              "                                    └───┘┌─┴─┐  │    │    │    │    │    │  »\n",
              " q_6: ───────────────────────────────────┤ X ├──┼────┼────┼────┼────┼────┼──»\n",
              "                                         └───┘┌─┴─┐  │    │    │    │    │  »\n",
              " q_7: ────────────────────────────────────────┤ X ├──┼────┼────┼────┼────┼──»\n",
              "                                              └───┘  │    │    │    │    │  »\n",
              " q_8: ───────────────────────────────────────────────┼────┼────┼────┼────┼──»\n",
              "                                                     │    │    │    │    │  »\n",
              " q_9: ───────────────────────────────────────────────┼────┼────┼────┼────┼──»\n",
              "                                                     │    │    │    │    │  »\n",
              "q_10: ───────────────────────────────────────────────┼────┼────┼────┼────┼──»\n",
              "                                                     │    │    │    │    │  »\n",
              "q_11: ───────────────────────────────────────────────┼────┼────┼────┼────┼──»\n",
              "                                                   ┌─┴─┐  │    │    │    │  »\n",
              "q_12: ─────────────────────────────────────────────┤ X ├──┼────┼────┼────┼──»\n",
              "                                                   └───┘  │    │    │    │  »\n",
              "q_13: ────────────────────────────────────────────────────┼────┼────┼────┼──»\n",
              "                                                        ┌─┴─┐  │    │    │  »\n",
              "q_14: ──────────────────────────────────────────────────┤ X ├──┼────┼────┼──»\n",
              "                                                        └───┘  │    │    │  »\n",
              "q_15: ─────────────────────────────────────────────────────────┼────┼────┼──»\n",
              "                                                               │    │    │  »\n",
              "q_16: ─────────────────────────────────────────────────────────┼────┼────┼──»\n",
              "                                                             ┌─┴─┐  │    │  »\n",
              "q_17: ───────────────────────────────────────────────────────┤ X ├──┼────┼──»\n",
              "                                                             └───┘  │    │  »\n",
              "q_18: ──────────────────────────────────────────────────────────────┼────┼──»\n",
              "                                                                  ┌─┴─┐┌─┴─┐»\n",
              "q_19: ────────────────────────────────────────────────────────────┤ X ├┤ X ├»\n",
              "                                                                  └───┘└───┘»\n",
              "«                                                        ┌───┐\n",
              "« q_0: ──■────■────■────■────■────■────■────■────■────■──┤ H ├\n",
              "«        │    │    │    │    │    │    │    │    │  ┌─┴─┐└───┘\n",
              "« q_1: ──┼────┼────┼────┼────┼────┼────┼────┼────┼──┤ X ├─────\n",
              "«        │    │    │    │    │    │    │    │  ┌─┴─┐└───┘     \n",
              "« q_2: ──┼────┼────┼────┼────┼────┼────┼────┼──┤ X ├──────────\n",
              "«        │    │    │    │    │    │    │  ┌─┴─┐└───┘          \n",
              "« q_3: ──┼────┼────┼────┼────┼────┼────┼──┤ X ├───────────────\n",
              "«        │    │    │    │    │    │  ┌─┴─┐└───┘               \n",
              "« q_4: ──┼────┼────┼────┼────┼────┼──┤ X ├────────────────────\n",
              "«        │    │    │    │    │  ┌─┴─┐└───┘                    \n",
              "« q_5: ──┼────┼────┼────┼────┼──┤ X ├─────────────────────────\n",
              "«        │    │    │    │  ┌─┴─┐└───┘                         \n",
              "« q_6: ──┼────┼────┼────┼──┤ X ├──────────────────────────────\n",
              "«        │    │    │  ┌─┴─┐└───┘                              \n",
              "« q_7: ──┼────┼────┼──┤ X ├───────────────────────────────────\n",
              "«        │    │    │  └───┘                                   \n",
              "« q_8: ──┼────┼────┼──────────────────────────────────────────\n",
              "«        │    │    │                                          \n",
              "« q_9: ──┼────┼────┼──────────────────────────────────────────\n",
              "«        │    │    │                                          \n",
              "«q_10: ──┼────┼────┼──────────────────────────────────────────\n",
              "«        │    │    │                                          \n",
              "«q_11: ──┼────┼────┼──────────────────────────────────────────\n",
              "«        │    │  ┌─┴─┐                                        \n",
              "«q_12: ──┼────┼──┤ X ├────────────────────────────────────────\n",
              "«        │    │  └───┘                                        \n",
              "«q_13: ──┼────┼───────────────────────────────────────────────\n",
              "«        │  ┌─┴─┐                                             \n",
              "«q_14: ──┼──┤ X ├─────────────────────────────────────────────\n",
              "«        │  └───┘                                             \n",
              "«q_15: ──┼────────────────────────────────────────────────────\n",
              "«        │                                                    \n",
              "«q_16: ──┼────────────────────────────────────────────────────\n",
              "«      ┌─┴─┐                                                  \n",
              "«q_17: ┤ X ├──────────────────────────────────────────────────\n",
              "«      └───┘                                                  \n",
              "«q_18: ───────────────────────────────────────────────────────\n",
              "«                                                             \n",
              "«q_19: ───────────────────────────────────────────────────────\n",
              "«                                                             </pre>"
            ]
          },
          "metadata": {},
          "execution_count": 221
        }
      ]
    },
    {
      "cell_type": "code",
      "source": [
        "qctest2.measure_all()\n",
        "\n",
        "simulator = Aer.get_backend('aer_simulator')\n",
        "circ = transpile(qctest2,simulator)\n",
        "result = simulator.run(circ).result()\n",
        "counts = result.get_counts(circ)\n",
        "\n",
        "plot_histogram(counts, title='Bell-State counts')"
      ],
      "metadata": {
        "colab": {
          "base_uri": "https://localhost:8080/",
          "height": 495
        },
        "id": "zO8Z6S6ZIZJb",
        "outputId": "a463afbb-5dc0-4e0e-99a1-ee78f3d084e5"
      },
      "execution_count": 222,
      "outputs": [
        {
          "output_type": "execute_result",
          "data": {
            "text/plain": [
              "<Figure size 504x360 with 1 Axes>"
            ],
            "image/png": "[encoded data removed]"
          },
          "metadata": {},
          "execution_count": 222
        }
      ]
    },
    {
      "cell_type": "markdown",
      "source": [
        "# Applications\n",
        "\n",
        "There is a clear application for quantum bit commitment schemes in verification processes that require zero-knowledge based decisions. A concrete example is a an online casino where a gambler places a bet on a roulette wheel and the dealer reveals if the ball landed on red or black; if the gambler was able to change his decision after the measurement of the wheel was made or if the dealer was able to lie about the wheel's outcome so as to not lose money, the game would be completely rigged. To ensure that it isn't we need to come up with an uncrackable commitment scheme so that both parties know that the other side did not change their minds after information had been revealed.\n",
        "\n",
        "\n",
        "In this case, the gambler would be Alice and the dealer would be Bob, and doing the protocol s number of times will give both Alice and Bob the confidence that they haven't cheated each other."
      ],
      "metadata": {
        "id": "akIBJWVGW3LF"
      }
    },
    {
      "cell_type": "code",
      "source": [],
      "metadata": {
        "id": "Z6r_aws-Syup"
      },
      "execution_count": null,
      "outputs": []
    }
  ]
}