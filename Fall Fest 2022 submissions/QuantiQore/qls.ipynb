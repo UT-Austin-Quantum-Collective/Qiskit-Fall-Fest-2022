{
  "nbformat": 4,
  "nbformat_minor": 0,
  "metadata": {
    "colab": {
      "provenance": [],
      "collapsed_sections": [
        "kFrHZpki8a6n"
      ],
      "include_colab_link": true
    },
    "kernelspec": {
      "name": "python3",
      "display_name": "Python 3"
    },
    "language_info": {
      "name": "python"
    }
  },
  "cells": [
    {
      "cell_type": "markdown",
      "metadata": {
        "id": "view-in-github",
        "colab_type": "text"
      },
      "source": [
        "<a href=\"https://colab.research.google.com/gist/cpicazo8304/835768958cebd864cb3ce6f7dad42b8a/qls.ipynb\" target=\"_parent\"><img src=\"https://colab.research.google.com/assets/colab-badge.svg\" alt=\"Open In Colab\"/></a>"
      ]
    },
    {
      "cell_type": "markdown",
      "source": [
        "# Installation and Imports"
      ],
      "metadata": {
        "id": "kFrHZpki8a6n"
      }
    },
    {
      "cell_type": "code",
      "execution_count": null,
      "metadata": {
        "id": "VCH6wlx88MY4",
        "colab": {
          "base_uri": "https://localhost:8080/"
        },
        "outputId": "e50f65b6-33fb-494f-88ed-c0671b7339fd"
      },
      "outputs": [
        {
          "output_type": "stream",
          "name": "stdout",
          "text": [
            "\u001b[K     |████████████████████████████████| 4.7 MB 8.4 MB/s \n",
            "\u001b[K     |████████████████████████████████| 19.2 MB 9.7 MB/s \n",
            "\u001b[K     |████████████████████████████████| 240 kB 45.7 MB/s \n",
            "\u001b[K     |████████████████████████████████| 112 kB 57.1 MB/s \n",
            "\u001b[K     |████████████████████████████████| 55 kB 3.8 MB/s \n",
            "\u001b[K     |████████████████████████████████| 50 kB 7.2 MB/s \n",
            "\u001b[K     |████████████████████████████████| 49 kB 6.3 MB/s \n",
            "\u001b[K     |████████████████████████████████| 37.5 MB 1.3 MB/s \n",
            "\u001b[K     |████████████████████████████████| 943 kB 57.6 MB/s \n",
            "\u001b[K     |████████████████████████████████| 4.0 MB 50.3 MB/s \n",
            "\u001b[K     |████████████████████████████████| 1.9 MB 51.0 MB/s \n",
            "\u001b[K     |████████████████████████████████| 112 kB 58.9 MB/s \n",
            "\u001b[?25h  Building wheel for qiskit (setup.py) ... \u001b[?25l\u001b[?25hdone\n",
            "\u001b[K     |████████████████████████████████| 162 kB 7.5 MB/s \n",
            "\u001b[?25h  Building wheel for pylatexenc (setup.py) ... \u001b[?25l\u001b[?25hdone\n"
          ]
        }
      ],
      "source": [
        "%pip install qiskit --quiet\n",
        "%pip install pylatexenc --quiet"
      ]
    },
    {
      "cell_type": "code",
      "source": [
        "import numpy as np\n",
        "from qiskit.algorithms.linear_solvers.numpy_linear_solver import NumPyLinearSolver\n",
        "from qiskit.algorithms.linear_solvers.hhl import HHL\n",
        "from qiskit.quantum_info import Statevector"
      ],
      "metadata": {
        "id": "5r9gWTDRHhhK"
      },
      "execution_count": null,
      "outputs": []
    },
    {
      "cell_type": "code",
      "source": [
        "import warnings\n",
        "warnings.filterwarnings(\"ignore\")"
      ],
      "metadata": {
        "id": "zlPS8ziDaVd6"
      },
      "execution_count": null,
      "outputs": []
    },
    {
      "cell_type": "markdown",
      "source": [
        "# Workspace"
      ],
      "metadata": {
        "id": "_vu8XdKR9FZk"
      }
    },
    {
      "cell_type": "markdown",
      "source": [
        "## Initialization"
      ],
      "metadata": {
        "id": "42cBNdk5ZmBw"
      }
    },
    {
      "cell_type": "code",
      "source": [
        "b = input(\"Enter b (Leave spaces between elements): \")\n",
        "b = np.array([int(i) for i in b.split()])\n",
        "n = len(b)\n",
        "A = []\n",
        "for i in range(n):\n",
        "  vec = input(\"Enter row \" + str(i + 1) + \" of A (Leave spaces between elements): \")\n",
        "  vec = np.array([int(i) for i in vec.split()])\n",
        "  A.append(vec)\n",
        "A = np.array(A)"
      ],
      "metadata": {
        "id": "y16D2ZjWVbNC"
      },
      "execution_count": null,
      "outputs": []
    },
    {
      "cell_type": "code",
      "source": [
        "#b = np.array([6, 0, 0])\n",
        "#A = np.array([[1, 0], [1, 1], [1, 2]])\n",
        "# Solution x_LSM = [5, -3]\n",
        "# Normalized x_LSM ~ [0.85, -0.5]"
      ],
      "metadata": {
        "id": "z7Qx6MdE9f5L"
      },
      "execution_count": null,
      "outputs": []
    },
    {
      "cell_type": "markdown",
      "source": [
        "## Least Square Fitting"
      ],
      "metadata": {
        "id": "fUF7AJLBbhje"
      }
    },
    {
      "cell_type": "markdown",
      "source": [
        "Least Square Solution: $\\vec{x}^*=arg_{\\vec{x}\\in\\mathbb{R}^p}(min||\\mathbf{A}\\vec{x}-\\vec{b}||^2_2)$\n",
        "\n",
        "$\\vec{x}^*$ is solution of $\\mathbf{A}^T\\mathbf{A}\\vec{x}=\\mathbf{A}^T\\vec{b}$"
      ],
      "metadata": {
        "id": "S7RmFNEMbkTx"
      }
    },
    {
      "cell_type": "markdown",
      "source": [
        "### HHL"
      ],
      "metadata": {
        "id": "ecKg6iowZO_r"
      }
    },
    {
      "cell_type": "code",
      "source": [
        "vector = np.matmul(np.transpose(A), b)\n",
        "matrix = np.matmul(np.transpose(A), A)"
      ],
      "metadata": {
        "id": "lgNi_QljZ5gs"
      },
      "execution_count": null,
      "outputs": []
    },
    {
      "cell_type": "code",
      "source": [
        "naive_hhl_solution = HHL().solve(matrix, vector)\n",
        "classical_solution = NumPyLinearSolver().solve(matrix, vector / np.linalg.norm(vector))"
      ],
      "metadata": {
        "id": "kpYYbiynZSLS"
      },
      "execution_count": null,
      "outputs": []
    },
    {
      "cell_type": "code",
      "source": [
        "print('naive state:')\n",
        "print(naive_hhl_solution.state)"
      ],
      "metadata": {
        "id": "rCRRCLbKagl5"
      },
      "execution_count": null,
      "outputs": []
    },
    {
      "cell_type": "code",
      "source": [
        "print('classical Euclidean norm:', classical_solution.euclidean_norm)\n",
        "print('naive Euclidean norm:', naive_hhl_solution.euclidean_norm)"
      ],
      "metadata": {
        "id": "vjxVboIfaoKA"
      },
      "execution_count": null,
      "outputs": []
    },
    {
      "cell_type": "code",
      "source": [
        "naive_sv = Statevector(naive_hhl_solution.state).data\n",
        "naive_full_vector = np.array([naive_sv[64], naive_sv[65]])\n",
        "naive_full_vector = np.real(naive_full_vector)\n",
        "print('full naive solution vector:', naive_hhl_solution.euclidean_norm*naive_full_vector/np.linalg.norm(naive_full_vector))\n",
        "print('classical state:', classical_solution.state)"
      ],
      "metadata": {
        "id": "XVWMI9NpasNs"
      },
      "execution_count": null,
      "outputs": []
    }
  ]
}